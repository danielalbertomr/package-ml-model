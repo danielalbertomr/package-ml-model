{
 "cells": [
  {
   "cell_type": "code",
   "execution_count": 1,
   "id": "documented-anime",
   "metadata": {},
   "outputs": [],
   "source": [
    "import pandas as pd"
   ]
  },
  {
   "cell_type": "code",
   "execution_count": 2,
   "id": "downtown-offering",
   "metadata": {},
   "outputs": [
    {
     "data": {
      "text/html": [
       "<div>\n",
       "<style scoped>\n",
       "    .dataframe tbody tr th:only-of-type {\n",
       "        vertical-align: middle;\n",
       "    }\n",
       "\n",
       "    .dataframe tbody tr th {\n",
       "        vertical-align: top;\n",
       "    }\n",
       "\n",
       "    .dataframe thead th {\n",
       "        text-align: right;\n",
       "    }\n",
       "</style>\n",
       "<table border=\"1\" class=\"dataframe\">\n",
       "  <thead>\n",
       "    <tr style=\"text-align: right;\">\n",
       "      <th></th>\n",
       "      <th>instant</th>\n",
       "      <th>dteday</th>\n",
       "      <th>hr</th>\n",
       "      <th>weathersit</th>\n",
       "      <th>temp</th>\n",
       "      <th>atemp</th>\n",
       "      <th>hum</th>\n",
       "      <th>windspeed</th>\n",
       "      <th>casual</th>\n",
       "      <th>registered</th>\n",
       "      <th>cnt</th>\n",
       "    </tr>\n",
       "  </thead>\n",
       "  <tbody>\n",
       "    <tr>\n",
       "      <th>0</th>\n",
       "      <td>1</td>\n",
       "      <td>2011-01-01</td>\n",
       "      <td>0</td>\n",
       "      <td>Clear, Few clouds, Partly cloudy, Partly cloudy</td>\n",
       "      <td>0.24</td>\n",
       "      <td>0.2879</td>\n",
       "      <td>0.81</td>\n",
       "      <td>0.0</td>\n",
       "      <td>3</td>\n",
       "      <td>13</td>\n",
       "      <td>16</td>\n",
       "    </tr>\n",
       "    <tr>\n",
       "      <th>1</th>\n",
       "      <td>2</td>\n",
       "      <td>2011-01-01</td>\n",
       "      <td>1</td>\n",
       "      <td>Clear, Few clouds, Partly cloudy, Partly cloudy</td>\n",
       "      <td>0.22</td>\n",
       "      <td>0.2727</td>\n",
       "      <td>0.80</td>\n",
       "      <td>0.0</td>\n",
       "      <td>8</td>\n",
       "      <td>32</td>\n",
       "      <td>40</td>\n",
       "    </tr>\n",
       "    <tr>\n",
       "      <th>2</th>\n",
       "      <td>3</td>\n",
       "      <td>2011-01-01</td>\n",
       "      <td>2</td>\n",
       "      <td>Clear, Few clouds, Partly cloudy, Partly cloudy</td>\n",
       "      <td>0.22</td>\n",
       "      <td>0.2727</td>\n",
       "      <td>0.80</td>\n",
       "      <td>0.0</td>\n",
       "      <td>5</td>\n",
       "      <td>27</td>\n",
       "      <td>32</td>\n",
       "    </tr>\n",
       "    <tr>\n",
       "      <th>3</th>\n",
       "      <td>4</td>\n",
       "      <td>2011-01-01</td>\n",
       "      <td>3</td>\n",
       "      <td>Clear, Few clouds, Partly cloudy, Partly cloudy</td>\n",
       "      <td>0.24</td>\n",
       "      <td>0.2879</td>\n",
       "      <td>0.75</td>\n",
       "      <td>0.0</td>\n",
       "      <td>3</td>\n",
       "      <td>10</td>\n",
       "      <td>13</td>\n",
       "    </tr>\n",
       "    <tr>\n",
       "      <th>4</th>\n",
       "      <td>5</td>\n",
       "      <td>2011-01-01</td>\n",
       "      <td>4</td>\n",
       "      <td>Clear, Few clouds, Partly cloudy, Partly cloudy</td>\n",
       "      <td>0.24</td>\n",
       "      <td>0.2879</td>\n",
       "      <td>0.75</td>\n",
       "      <td>0.0</td>\n",
       "      <td>0</td>\n",
       "      <td>1</td>\n",
       "      <td>1</td>\n",
       "    </tr>\n",
       "  </tbody>\n",
       "</table>\n",
       "</div>"
      ],
      "text/plain": [
       "   instant     dteday  hr                                       weathersit  \\\n",
       "0        1 2011-01-01   0  Clear, Few clouds, Partly cloudy, Partly cloudy   \n",
       "1        2 2011-01-01   1  Clear, Few clouds, Partly cloudy, Partly cloudy   \n",
       "2        3 2011-01-01   2  Clear, Few clouds, Partly cloudy, Partly cloudy   \n",
       "3        4 2011-01-01   3  Clear, Few clouds, Partly cloudy, Partly cloudy   \n",
       "4        5 2011-01-01   4  Clear, Few clouds, Partly cloudy, Partly cloudy   \n",
       "\n",
       "   temp   atemp   hum  windspeed  casual  registered  cnt  \n",
       "0  0.24  0.2879  0.81        0.0       3          13   16  \n",
       "1  0.22  0.2727  0.80        0.0       8          32   40  \n",
       "2  0.22  0.2727  0.80        0.0       5          27   32  \n",
       "3  0.24  0.2879  0.75        0.0       3          10   13  \n",
       "4  0.24  0.2879  0.75        0.0       0           1    1  "
      ]
     },
     "execution_count": 2,
     "metadata": {},
     "output_type": "execute_result"
    }
   ],
   "source": [
    "df = pd.read_csv(\"hour.csv\", parse_dates=[\"dteday\"])\n",
    "df.head()"
   ]
  },
  {
   "cell_type": "code",
   "execution_count": 4,
   "id": "blessed-rebound",
   "metadata": {},
   "outputs": [],
   "source": [
    "X = df.drop(columns=[\"instant\", \"cnt\", \"casual\", \"registered\"])\n",
    "y = df[\"cnt\"]"
   ]
  },
  {
   "cell_type": "code",
   "execution_count": 5,
   "id": "synthetic-martial",
   "metadata": {},
   "outputs": [],
   "source": [
    "import numpy as np"
   ]
  },
  {
   "cell_type": "code",
   "execution_count": 6,
   "id": "saved-support",
   "metadata": {},
   "outputs": [],
   "source": [
    "from sklearn.compose import ColumnTransformer, make_column_transformer, make_column_selector\n",
    "from sklearn.impute import SimpleImputer, KNNImputer\n",
    "from sklearn.pipeline import Pipeline, make_pipeline\n",
    "from sklearn.preprocessing import OrdinalEncoder, FunctionTransformer"
   ]
  },
  {
   "cell_type": "code",
   "execution_count": 7,
   "id": "aerial-medication",
   "metadata": {},
   "outputs": [],
   "source": [
    "def ffill_missing(ser):\n",
    "    return ser.fillna(method=\"ffill\")"
   ]
  },
  {
   "cell_type": "code",
   "execution_count": 8,
   "id": "directed-mentor",
   "metadata": {},
   "outputs": [],
   "source": [
    "ffiller = FunctionTransformer(ffill_missing)"
   ]
  },
  {
   "cell_type": "code",
   "execution_count": 9,
   "id": "naval-picking",
   "metadata": {},
   "outputs": [
    {
     "data": {
      "text/plain": [
       "Pipeline(steps=[('functiontransformer',\n",
       "                 FunctionTransformer(func=<function ffill_missing at 0x7f2379903d30>)),\n",
       "                ('ordinalencoder',\n",
       "                 OrdinalEncoder(handle_unknown='use_encoded_value',\n",
       "                                unknown_value=4))])"
      ]
     },
     "execution_count": 9,
     "metadata": {},
     "output_type": "execute_result"
    }
   ],
   "source": [
    "weather_enc = make_pipeline(\n",
    "    ffiller,\n",
    "    OrdinalEncoder(\n",
    "        handle_unknown=\"use_encoded_value\", unknown_value=X[\"weathersit\"].nunique()\n",
    "    ),\n",
    ")"
   ]
  },
  {
   "cell_type": "code",
   "execution_count": 10,
   "id": "verbal-application",
   "metadata": {},
   "outputs": [
    {
     "data": {
      "text/plain": [
       "ColumnTransformer(transformers=[('functiontransformer',\n",
       "                                 FunctionTransformer(func=<function ffill_missing at 0x7f2379903d30>),\n",
       "                                 <sklearn.compose._column_transformer.make_column_selector object at 0x7f23798efe50>),\n",
       "                                ('pipeline',\n",
       "                                 Pipeline(steps=[('functiontransformer',\n",
       "                                                  FunctionTransformer(func=<function ffill_missing at 0x7f2379903d30>)),\n",
       "                                                 ('ordinalencoder',\n",
       "                                                  OrdinalEncoder(handle_unknown='use_encoded_value',\n",
       "                                                                 unknown_value=4))]),\n",
       "                                 ['weathersit'])])"
      ]
     },
     "execution_count": 10,
     "metadata": {},
     "output_type": "execute_result"
    }
   ],
   "source": [
    "ct = make_column_transformer(\n",
    "    (ffiller, make_column_selector(dtype_include=np.number)),\n",
    "    (weather_enc, [\"weathersit\"]),\n",
    ")"
   ]
  },
  {
   "cell_type": "code",
   "execution_count": 11,
   "id": "middle-remainder",
   "metadata": {},
   "outputs": [],
   "source": [
    "from sklearn.pipeline import FeatureUnion, make_union"
   ]
  },
  {
   "cell_type": "code",
   "execution_count": 12,
   "id": "dietary-router",
   "metadata": {},
   "outputs": [],
   "source": [
    "def is_weekend(data):\n",
    "    return (\n",
    "        data[\"dteday\"]\n",
    "        .dt.day_name()\n",
    "        .isin([\"Saturday\", \"Sunday\"])\n",
    "        .to_frame()\n",
    "    )"
   ]
  },
  {
   "cell_type": "code",
   "execution_count": 13,
   "id": "infinite-trust",
   "metadata": {},
   "outputs": [],
   "source": [
    "def year(data):\n",
    "    # Our reference year is 2011, the beginning of the training dataset\n",
    "    return (data[\"dteday\"].dt.year - 2011).to_frame()"
   ]
  },
  {
   "cell_type": "code",
   "execution_count": 14,
   "id": "moderate-trading",
   "metadata": {},
   "outputs": [
    {
     "data": {
      "text/plain": [
       "FeatureUnion(transformer_list=[('is_weekend',\n",
       "                                FunctionTransformer(func=<function is_weekend at 0x7f2379907af0>)),\n",
       "                               ('year',\n",
       "                                FunctionTransformer(func=<function year at 0x7f2379907670>)),\n",
       "                               ('column_transform',\n",
       "                                ColumnTransformer(transformers=[('functiontransformer',\n",
       "                                                                 FunctionTransformer(func=<function ffill_missing at 0x7f2379903d30>),\n",
       "                                                                 <sklearn.compose._column_transformer.make_column_selector object at 0x7f23798efe50>),\n",
       "                                                                ('pipeline',\n",
       "                                                                 Pipeline(steps=[('functiontransformer',\n",
       "                                                                                  FunctionTransformer(func=<function ffill_missing at 0x7f2379903d30>)),\n",
       "                                                                                 ('ordinalencoder',\n",
       "                                                                                  OrdinalEncoder(handle_unknown='use_encoded_value',\n",
       "                                                                                                 unknown_value=4))]),\n",
       "                                                                 ['weathersit'])]))])"
      ]
     },
     "execution_count": 14,
     "metadata": {},
     "output_type": "execute_result"
    }
   ],
   "source": [
    "preprocessing = FeatureUnion([\n",
    "    (\"is_weekend\", FunctionTransformer(is_weekend)),\n",
    "    (\"year\", FunctionTransformer(year)),\n",
    "    (\"column_transform\", ct)\n",
    "])"
   ]
  },
  {
   "cell_type": "code",
   "execution_count": 15,
   "id": "helpful-mouth",
   "metadata": {},
   "outputs": [],
   "source": [
    "from sklearn.ensemble import RandomForestRegressor"
   ]
  },
  {
   "cell_type": "code",
   "execution_count": 16,
   "id": "usual-toilet",
   "metadata": {},
   "outputs": [
    {
     "data": {
      "text/plain": [
       "Pipeline(steps=[('preprocessing',\n",
       "                 FeatureUnion(transformer_list=[('is_weekend',\n",
       "                                                 FunctionTransformer(func=<function is_weekend at 0x7f2379907af0>)),\n",
       "                                                ('year',\n",
       "                                                 FunctionTransformer(func=<function year at 0x7f2379907670>)),\n",
       "                                                ('column_transform',\n",
       "                                                 ColumnTransformer(transformers=[('functiontransformer',\n",
       "                                                                                  FunctionTransformer(func=<function ffill_missing at 0x7f2379903d30>),\n",
       "                                                                                  <sklearn.compose._column_transformer.make_column_selector object at 0x7f23798efe50>),\n",
       "                                                                                 ('pipeline',\n",
       "                                                                                  Pipeline(steps=[('functiontransformer',\n",
       "                                                                                                   FunctionTransformer(func=<function ffill_missing at 0x7f2379903d30>)),\n",
       "                                                                                                  ('ordinalencoder',\n",
       "                                                                                                   OrdinalEncoder(handle_unknown='use_encoded_value',\n",
       "                                                                                                                  unknown_value=4))]),\n",
       "                                                                                  ['weathersit'])]))])),\n",
       "                ('model', RandomForestRegressor())])"
      ]
     },
     "execution_count": 16,
     "metadata": {},
     "output_type": "execute_result"
    }
   ],
   "source": [
    "reg = Pipeline([(\"preprocessing\", preprocessing), (\"model\", RandomForestRegressor())])"
   ]
  },
  {
   "cell_type": "code",
   "execution_count": 17,
   "id": "determined-charleston",
   "metadata": {},
   "outputs": [],
   "source": [
    "X_train, y_train = X.loc[X[\"dteday\"] < \"2012-10\"], y.loc[X[\"dteday\"] < \"2012-10\"]\n",
    "X_test, y_test = X.loc[\"2012-10\" <= X[\"dteday\"]], y.loc[\"2012-10\" <= X[\"dteday\"]]"
   ]
  },
  {
   "cell_type": "code",
   "execution_count": 18,
   "id": "induced-monte",
   "metadata": {},
   "outputs": [
    {
     "data": {
      "text/plain": [
       "Pipeline(steps=[('preprocessing',\n",
       "                 FeatureUnion(transformer_list=[('is_weekend',\n",
       "                                                 FunctionTransformer(func=<function is_weekend at 0x7f2379907af0>)),\n",
       "                                                ('year',\n",
       "                                                 FunctionTransformer(func=<function year at 0x7f2379907670>)),\n",
       "                                                ('column_transform',\n",
       "                                                 ColumnTransformer(transformers=[('functiontransformer',\n",
       "                                                                                  FunctionTransformer(func=<function ffill_missing at 0x7f2379903d30>),\n",
       "                                                                                  <sklearn.compose._column_transformer.make_column_selector object at 0x7f23798efe50>),\n",
       "                                                                                 ('pipeline',\n",
       "                                                                                  Pipeline(steps=[('functiontransformer',\n",
       "                                                                                                   FunctionTransformer(func=<function ffill_missing at 0x7f2379903d30>)),\n",
       "                                                                                                  ('ordinalencoder',\n",
       "                                                                                                   OrdinalEncoder(handle_unknown='use_encoded_value',\n",
       "                                                                                                                  unknown_value=4))]),\n",
       "                                                                                  ['weathersit'])]))])),\n",
       "                ('model', RandomForestRegressor())])"
      ]
     },
     "execution_count": 18,
     "metadata": {},
     "output_type": "execute_result"
    }
   ],
   "source": [
    "reg.fit(X_train, y_train)"
   ]
  },
  {
   "cell_type": "code",
   "execution_count": 20,
   "id": "electric-circuit",
   "metadata": {},
   "outputs": [],
   "source": [
    "y_pred = reg.predict(X_test)"
   ]
  },
  {
   "cell_type": "code",
   "execution_count": 27,
   "id": "electrical-hughes",
   "metadata": {},
   "outputs": [
    {
     "data": {
      "text/plain": [
       "array([103.96])"
      ]
     },
     "execution_count": 27,
     "metadata": {},
     "output_type": "execute_result"
    }
   ],
   "source": [
    "reg.predict(pd.DataFrame([[\n",
    "    pd.to_datetime(\"2012-11-01\"),\n",
    "    10,\n",
    "    \"Clear, Few clouds, Partly cloudy, Partly cloudy\",\n",
    "    0.3,\n",
    "    0.31,\n",
    "    0.8,\n",
    "    0.0,\n",
    "]], columns=[\n",
    "    'dteday',\n",
    "    'hr',\n",
    "    'weathersit',\n",
    "    'temp',\n",
    "    'atemp',\n",
    "    'hum',\n",
    "    'windspeed'\n",
    "]))"
   ]
  }
 ],
 "metadata": {
  "kernelspec": {
   "display_name": "Python 3",
   "language": "python",
   "name": "python3"
  },
  "language_info": {
   "codemirror_mode": {
    "name": "ipython",
    "version": 3
   },
   "file_extension": ".py",
   "mimetype": "text/x-python",
   "name": "python",
   "nbconvert_exporter": "python",
   "pygments_lexer": "ipython3",
   "version": "3.7.3"
  }
 },
 "nbformat": 4,
 "nbformat_minor": 5
}
